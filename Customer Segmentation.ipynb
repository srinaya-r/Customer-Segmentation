{
  "cells": [
    {
      "cell_type": "code",
      "execution_count": null,
      "id": "472ac0e6",
      "metadata": {
        "id": "472ac0e6"
      },
      "outputs": [],
      "source": [
        "import pandas as pd"
      ]
    },
    {
      "cell_type": "code",
      "execution_count": null,
      "id": "c105192b",
      "metadata": {
        "id": "c105192b"
      },
      "outputs": [],
      "source": [
        "data = pd.read_csv(\"Mall_Customers.csv\")"
      ]
    },
    {
      "cell_type": "code",
      "execution_count": null,
      "id": "341a6679",
      "metadata": {
        "id": "341a6679",
        "outputId": "29d71ca5-7f4a-467b-fddc-960c62f9f107"
      },
      "outputs": [
        {
          "data": {
            "text/html": [
              "<div>\n",
              "<style scoped>\n",
              "    .dataframe tbody tr th:only-of-type {\n",
              "        vertical-align: middle;\n",
              "    }\n",
              "\n",
              "    .dataframe tbody tr th {\n",
              "        vertical-align: top;\n",
              "    }\n",
              "\n",
              "    .dataframe thead th {\n",
              "        text-align: right;\n",
              "    }\n",
              "</style>\n",
              "<table border=\"1\" class=\"dataframe\">\n",
              "  <thead>\n",
              "    <tr style=\"text-align: right;\">\n",
              "      <th></th>\n",
              "      <th>CustomerID</th>\n",
              "      <th>Gender</th>\n",
              "      <th>Age</th>\n",
              "      <th>Annual Income (k$)</th>\n",
              "      <th>Spending Score (1-100)</th>\n",
              "    </tr>\n",
              "  </thead>\n",
              "  <tbody>\n",
              "    <tr>\n",
              "      <th>0</th>\n",
              "      <td>1</td>\n",
              "      <td>Male</td>\n",
              "      <td>19</td>\n",
              "      <td>15</td>\n",
              "      <td>39</td>\n",
              "    </tr>\n",
              "    <tr>\n",
              "      <th>1</th>\n",
              "      <td>2</td>\n",
              "      <td>Male</td>\n",
              "      <td>21</td>\n",
              "      <td>15</td>\n",
              "      <td>81</td>\n",
              "    </tr>\n",
              "    <tr>\n",
              "      <th>2</th>\n",
              "      <td>3</td>\n",
              "      <td>Female</td>\n",
              "      <td>20</td>\n",
              "      <td>16</td>\n",
              "      <td>6</td>\n",
              "    </tr>\n",
              "    <tr>\n",
              "      <th>3</th>\n",
              "      <td>4</td>\n",
              "      <td>Female</td>\n",
              "      <td>23</td>\n",
              "      <td>16</td>\n",
              "      <td>77</td>\n",
              "    </tr>\n",
              "    <tr>\n",
              "      <th>4</th>\n",
              "      <td>5</td>\n",
              "      <td>Female</td>\n",
              "      <td>31</td>\n",
              "      <td>17</td>\n",
              "      <td>40</td>\n",
              "    </tr>\n",
              "  </tbody>\n",
              "</table>\n",
              "</div>"
            ],
            "text/plain": [
              "   CustomerID  Gender  Age  Annual Income (k$)  Spending Score (1-100)\n",
              "0           1    Male   19                  15                      39\n",
              "1           2    Male   21                  15                      81\n",
              "2           3  Female   20                  16                       6\n",
              "3           4  Female   23                  16                      77\n",
              "4           5  Female   31                  17                      40"
            ]
          },
          "execution_count": 5,
          "metadata": {},
          "output_type": "execute_result"
        }
      ],
      "source": [
        "data.head()"
      ]
    },
    {
      "cell_type": "code",
      "execution_count": null,
      "id": "712dc9ab",
      "metadata": {
        "id": "712dc9ab",
        "outputId": "43096031-a676-4ede-9f45-9727e66e306b"
      },
      "outputs": [
        {
          "data": {
            "text/plain": [
              "(200, 5)"
            ]
          },
          "execution_count": 6,
          "metadata": {},
          "output_type": "execute_result"
        }
      ],
      "source": [
        "data.shape"
      ]
    },
    {
      "cell_type": "code",
      "execution_count": null,
      "id": "922ff2a0",
      "metadata": {
        "id": "922ff2a0",
        "outputId": "3def4938-8221-49fd-c31f-c64cbd7065e1"
      },
      "outputs": [
        {
          "name": "stdout",
          "output_type": "stream",
          "text": [
            "<class 'pandas.core.frame.DataFrame'>\n",
            "RangeIndex: 200 entries, 0 to 199\n",
            "Data columns (total 5 columns):\n",
            " #   Column                  Non-Null Count  Dtype \n",
            "---  ------                  --------------  ----- \n",
            " 0   CustomerID              200 non-null    int64 \n",
            " 1   Gender                  200 non-null    object\n",
            " 2   Age                     200 non-null    int64 \n",
            " 3   Annual Income (k$)      200 non-null    int64 \n",
            " 4   Spending Score (1-100)  200 non-null    int64 \n",
            "dtypes: int64(4), object(1)\n",
            "memory usage: 7.9+ KB\n"
          ]
        }
      ],
      "source": [
        "data.info()"
      ]
    },
    {
      "cell_type": "code",
      "execution_count": null,
      "id": "9a594d65",
      "metadata": {
        "id": "9a594d65",
        "outputId": "e5adf61e-7fb4-4671-ef01-2da9f7a47db1"
      },
      "outputs": [
        {
          "data": {
            "text/plain": [
              "CustomerID                0\n",
              "Gender                    0\n",
              "Age                       0\n",
              "Annual Income (k$)        0\n",
              "Spending Score (1-100)    0\n",
              "dtype: int64"
            ]
          },
          "execution_count": 8,
          "metadata": {},
          "output_type": "execute_result"
        }
      ],
      "source": [
        "data.isnull().sum()"
      ]
    },
    {
      "cell_type": "code",
      "execution_count": null,
      "id": "941e0a18",
      "metadata": {
        "id": "941e0a18",
        "outputId": "e9144723-6280-4abe-8774-91b527d1a835"
      },
      "outputs": [
        {
          "data": {
            "text/html": [
              "<div>\n",
              "<style scoped>\n",
              "    .dataframe tbody tr th:only-of-type {\n",
              "        vertical-align: middle;\n",
              "    }\n",
              "\n",
              "    .dataframe tbody tr th {\n",
              "        vertical-align: top;\n",
              "    }\n",
              "\n",
              "    .dataframe thead th {\n",
              "        text-align: right;\n",
              "    }\n",
              "</style>\n",
              "<table border=\"1\" class=\"dataframe\">\n",
              "  <thead>\n",
              "    <tr style=\"text-align: right;\">\n",
              "      <th></th>\n",
              "      <th>CustomerID</th>\n",
              "      <th>Age</th>\n",
              "      <th>Annual Income (k$)</th>\n",
              "      <th>Spending Score (1-100)</th>\n",
              "    </tr>\n",
              "  </thead>\n",
              "  <tbody>\n",
              "    <tr>\n",
              "      <th>count</th>\n",
              "      <td>200.000000</td>\n",
              "      <td>200.000000</td>\n",
              "      <td>200.000000</td>\n",
              "      <td>200.000000</td>\n",
              "    </tr>\n",
              "    <tr>\n",
              "      <th>mean</th>\n",
              "      <td>100.500000</td>\n",
              "      <td>38.850000</td>\n",
              "      <td>60.560000</td>\n",
              "      <td>50.200000</td>\n",
              "    </tr>\n",
              "    <tr>\n",
              "      <th>std</th>\n",
              "      <td>57.879185</td>\n",
              "      <td>13.969007</td>\n",
              "      <td>26.264721</td>\n",
              "      <td>25.823522</td>\n",
              "    </tr>\n",
              "    <tr>\n",
              "      <th>min</th>\n",
              "      <td>1.000000</td>\n",
              "      <td>18.000000</td>\n",
              "      <td>15.000000</td>\n",
              "      <td>1.000000</td>\n",
              "    </tr>\n",
              "    <tr>\n",
              "      <th>25%</th>\n",
              "      <td>50.750000</td>\n",
              "      <td>28.750000</td>\n",
              "      <td>41.500000</td>\n",
              "      <td>34.750000</td>\n",
              "    </tr>\n",
              "    <tr>\n",
              "      <th>50%</th>\n",
              "      <td>100.500000</td>\n",
              "      <td>36.000000</td>\n",
              "      <td>61.500000</td>\n",
              "      <td>50.000000</td>\n",
              "    </tr>\n",
              "    <tr>\n",
              "      <th>75%</th>\n",
              "      <td>150.250000</td>\n",
              "      <td>49.000000</td>\n",
              "      <td>78.000000</td>\n",
              "      <td>73.000000</td>\n",
              "    </tr>\n",
              "    <tr>\n",
              "      <th>max</th>\n",
              "      <td>200.000000</td>\n",
              "      <td>70.000000</td>\n",
              "      <td>137.000000</td>\n",
              "      <td>99.000000</td>\n",
              "    </tr>\n",
              "  </tbody>\n",
              "</table>\n",
              "</div>"
            ],
            "text/plain": [
              "       CustomerID         Age  Annual Income (k$)  Spending Score (1-100)\n",
              "count  200.000000  200.000000          200.000000              200.000000\n",
              "mean   100.500000   38.850000           60.560000               50.200000\n",
              "std     57.879185   13.969007           26.264721               25.823522\n",
              "min      1.000000   18.000000           15.000000                1.000000\n",
              "25%     50.750000   28.750000           41.500000               34.750000\n",
              "50%    100.500000   36.000000           61.500000               50.000000\n",
              "75%    150.250000   49.000000           78.000000               73.000000\n",
              "max    200.000000   70.000000          137.000000               99.000000"
            ]
          },
          "execution_count": 9,
          "metadata": {},
          "output_type": "execute_result"
        }
      ],
      "source": [
        "data.describe()"
      ]
    },
    {
      "cell_type": "markdown",
      "id": "c1e5b208",
      "metadata": {
        "id": "c1e5b208"
      },
      "source": [
        "# K MEANS CLUSTERING"
      ]
    },
    {
      "cell_type": "code",
      "execution_count": null,
      "id": "cb6663e5",
      "metadata": {
        "id": "cb6663e5",
        "outputId": "bc63495f-e4c7-4d71-f756-bbfccee3dd6a"
      },
      "outputs": [
        {
          "data": {
            "text/plain": [
              "Index(['CustomerID', 'Gender', 'Age', 'Annual Income (k$)',\n",
              "       'Spending Score (1-100)'],\n",
              "      dtype='object')"
            ]
          },
          "execution_count": 10,
          "metadata": {},
          "output_type": "execute_result"
        }
      ],
      "source": [
        "data.columns"
      ]
    },
    {
      "cell_type": "code",
      "execution_count": null,
      "id": "aa3367e5",
      "metadata": {
        "id": "aa3367e5"
      },
      "outputs": [],
      "source": [
        "X = data[['Annual Income (k$)','Spending Score (1-100)']]"
      ]
    },
    {
      "cell_type": "code",
      "execution_count": null,
      "id": "e42b23e6",
      "metadata": {
        "id": "e42b23e6",
        "outputId": "0c96124b-65ec-437d-c8bb-4e68a22f3139"
      },
      "outputs": [
        {
          "data": {
            "text/html": [
              "<div>\n",
              "<style scoped>\n",
              "    .dataframe tbody tr th:only-of-type {\n",
              "        vertical-align: middle;\n",
              "    }\n",
              "\n",
              "    .dataframe tbody tr th {\n",
              "        vertical-align: top;\n",
              "    }\n",
              "\n",
              "    .dataframe thead th {\n",
              "        text-align: right;\n",
              "    }\n",
              "</style>\n",
              "<table border=\"1\" class=\"dataframe\">\n",
              "  <thead>\n",
              "    <tr style=\"text-align: right;\">\n",
              "      <th></th>\n",
              "      <th>Annual Income (k$)</th>\n",
              "      <th>Spending Score (1-100)</th>\n",
              "    </tr>\n",
              "  </thead>\n",
              "  <tbody>\n",
              "    <tr>\n",
              "      <th>0</th>\n",
              "      <td>15</td>\n",
              "      <td>39</td>\n",
              "    </tr>\n",
              "    <tr>\n",
              "      <th>1</th>\n",
              "      <td>15</td>\n",
              "      <td>81</td>\n",
              "    </tr>\n",
              "    <tr>\n",
              "      <th>2</th>\n",
              "      <td>16</td>\n",
              "      <td>6</td>\n",
              "    </tr>\n",
              "    <tr>\n",
              "      <th>3</th>\n",
              "      <td>16</td>\n",
              "      <td>77</td>\n",
              "    </tr>\n",
              "    <tr>\n",
              "      <th>4</th>\n",
              "      <td>17</td>\n",
              "      <td>40</td>\n",
              "    </tr>\n",
              "    <tr>\n",
              "      <th>...</th>\n",
              "      <td>...</td>\n",
              "      <td>...</td>\n",
              "    </tr>\n",
              "    <tr>\n",
              "      <th>195</th>\n",
              "      <td>120</td>\n",
              "      <td>79</td>\n",
              "    </tr>\n",
              "    <tr>\n",
              "      <th>196</th>\n",
              "      <td>126</td>\n",
              "      <td>28</td>\n",
              "    </tr>\n",
              "    <tr>\n",
              "      <th>197</th>\n",
              "      <td>126</td>\n",
              "      <td>74</td>\n",
              "    </tr>\n",
              "    <tr>\n",
              "      <th>198</th>\n",
              "      <td>137</td>\n",
              "      <td>18</td>\n",
              "    </tr>\n",
              "    <tr>\n",
              "      <th>199</th>\n",
              "      <td>137</td>\n",
              "      <td>83</td>\n",
              "    </tr>\n",
              "  </tbody>\n",
              "</table>\n",
              "<p>200 rows × 2 columns</p>\n",
              "</div>"
            ],
            "text/plain": [
              "     Annual Income (k$)  Spending Score (1-100)\n",
              "0                    15                      39\n",
              "1                    15                      81\n",
              "2                    16                       6\n",
              "3                    16                      77\n",
              "4                    17                      40\n",
              "..                  ...                     ...\n",
              "195                 120                      79\n",
              "196                 126                      28\n",
              "197                 126                      74\n",
              "198                 137                      18\n",
              "199                 137                      83\n",
              "\n",
              "[200 rows x 2 columns]"
            ]
          },
          "execution_count": 12,
          "metadata": {},
          "output_type": "execute_result"
        }
      ],
      "source": [
        "X"
      ]
    },
    {
      "cell_type": "code",
      "execution_count": null,
      "id": "f82c0bf7",
      "metadata": {
        "id": "f82c0bf7"
      },
      "outputs": [],
      "source": [
        "from sklearn.cluster import KMeans"
      ]
    },
    {
      "cell_type": "code",
      "execution_count": null,
      "id": "dceaa9fa",
      "metadata": {
        "id": "dceaa9fa",
        "outputId": "2978b782-c090-46b6-b520-b22278be81e3"
      },
      "outputs": [
        {
          "data": {
            "text/plain": [
              "KMeans()"
            ]
          },
          "execution_count": 14,
          "metadata": {},
          "output_type": "execute_result"
        }
      ],
      "source": [
        "k_means = KMeans()\n",
        "k_means.fit(X)\n",
        "# fit()- trains"
      ]
    },
    {
      "cell_type": "code",
      "execution_count": null,
      "id": "82b085cb",
      "metadata": {
        "id": "82b085cb",
        "outputId": "7a892318-225d-4eee-d57d-8d0457047b38"
      },
      "outputs": [
        {
          "data": {
            "text/plain": [
              "array([4, 3, 4, 3, 4, 3, 4, 3, 4, 3, 4, 3, 4, 3, 4, 3, 4, 3, 4, 3, 4, 3,\n",
              "       4, 3, 4, 3, 4, 5, 4, 3, 4, 3, 4, 3, 4, 3, 4, 3, 4, 3, 5, 3, 5, 5,\n",
              "       4, 5, 5, 5, 5, 5, 5, 5, 5, 5, 5, 5, 5, 5, 5, 5, 5, 5, 5, 5, 5, 5,\n",
              "       5, 5, 5, 5, 5, 5, 5, 5, 0, 0, 0, 0, 0, 0, 0, 0, 0, 0, 0, 0, 0, 0,\n",
              "       0, 0, 0, 0, 0, 0, 0, 0, 0, 0, 0, 0, 0, 0, 0, 0, 0, 0, 0, 0, 0, 0,\n",
              "       0, 0, 0, 0, 0, 0, 0, 0, 0, 0, 0, 0, 0, 6, 2, 6, 0, 6, 2, 6, 2, 6,\n",
              "       0, 6, 2, 6, 2, 6, 2, 6, 2, 6, 0, 6, 2, 6, 0, 6, 2, 6, 2, 6, 2, 6,\n",
              "       2, 6, 2, 6, 2, 6, 2, 6, 2, 6, 2, 6, 2, 6, 2, 6, 2, 6, 2, 6, 2, 6,\n",
              "       2, 6, 2, 1, 7, 1, 7, 1, 7, 1, 7, 1, 7, 1, 7, 1, 7, 1, 7, 1, 7, 1,\n",
              "       7, 1])"
            ]
          },
          "execution_count": 15,
          "metadata": {},
          "output_type": "execute_result"
        }
      ],
      "source": [
        "k_means = KMeans()\n",
        "k_means.fit_predict(X)\n",
        "# fit_predict() - creates dependent variables"
      ]
    },
    {
      "cell_type": "markdown",
      "id": "1082479f",
      "metadata": {
        "id": "1082479f"
      },
      "source": [
        "# Elbow method to find optimal no:of clusters"
      ]
    },
    {
      "cell_type": "code",
      "execution_count": null,
      "id": "16ee3909",
      "metadata": {
        "id": "16ee3909",
        "outputId": "93753c87-efce-4042-a36e-d309d5b16eb5"
      },
      "outputs": [
        {
          "name": "stderr",
          "output_type": "stream",
          "text": [
            "C:\\Users\\Admin\\anaconda3\\lib\\site-packages\\sklearn\\cluster\\_kmeans.py:1036: UserWarning: KMeans is known to have a memory leak on Windows with MKL, when there are less chunks than available threads. You can avoid it by setting the environment variable OMP_NUM_THREADS=1.\n",
            "  warnings.warn(\n"
          ]
        }
      ],
      "source": [
        "wcss=[]\n",
        "for i in range(1,11):\n",
        "    k_means = KMeans(n_clusters = i)\n",
        "    k_means.fit(X)\n",
        "    wcss.append(k_means.inertia_)\n",
        "    "
      ]
    },
    {
      "cell_type": "code",
      "execution_count": null,
      "id": "99b3ca5d",
      "metadata": {
        "id": "99b3ca5d",
        "outputId": "d2f71832-7ecb-49f7-8dbb-ffaf63b4b177"
      },
      "outputs": [
        {
          "data": {
            "text/plain": [
              "[269981.28,\n",
              " 181363.59595959596,\n",
              " 106348.37306211119,\n",
              " 73679.78903948834,\n",
              " 44448.45544793371,\n",
              " 37233.81451071001,\n",
              " 30259.65720728547,\n",
              " 25005.55037243283,\n",
              " 21841.97825674864,\n",
              " 19704.123543147773]"
            ]
          },
          "execution_count": 17,
          "metadata": {},
          "output_type": "execute_result"
        }
      ],
      "source": [
        "wcss"
      ]
    },
    {
      "cell_type": "code",
      "execution_count": null,
      "id": "e02f608e",
      "metadata": {
        "id": "e02f608e",
        "outputId": "5060b9a0-8b6e-4228-a00f-215a227e2ade"
      },
      "outputs": [
        {
          "name": "stdout",
          "output_type": "stream",
          "text": [
            "Collecting KMeans"
          ]
        },
        {
          "name": "stderr",
          "output_type": "stream",
          "text": [
            "  ERROR: Command errored out with exit status 1:\n",
            "   command: 'C:\\Users\\Admin\\anaconda3\\python.exe' -u -c 'import io, os, sys, setuptools, tokenize; sys.argv[0] = '\"'\"'C:\\\\Users\\\\Admin\\\\AppData\\\\Local\\\\Temp\\\\pip-install-jk02jvwv\\\\kmeans_f93f24f65a434b1481ef8d1f050bb431\\\\setup.py'\"'\"'; __file__='\"'\"'C:\\\\Users\\\\Admin\\\\AppData\\\\Local\\\\Temp\\\\pip-install-jk02jvwv\\\\kmeans_f93f24f65a434b1481ef8d1f050bb431\\\\setup.py'\"'\"';f = getattr(tokenize, '\"'\"'open'\"'\"', open)(__file__) if os.path.exists(__file__) else io.StringIO('\"'\"'from setuptools import setup; setup()'\"'\"');code = f.read().replace('\"'\"'\\r\\n'\"'\"', '\"'\"'\\n'\"'\"');f.close();exec(compile(code, __file__, '\"'\"'exec'\"'\"'))' bdist_wheel -d 'C:\\Users\\Admin\\AppData\\Local\\Temp\\pip-wheel-m00kzdam'\n",
            "       cwd: C:\\Users\\Admin\\AppData\\Local\\Temp\\pip-install-jk02jvwv\\kmeans_f93f24f65a434b1481ef8d1f050bb431\\\n",
            "  Complete output (19 lines):\n",
            "  running bdist_wheel\n",
            "  running build\n",
            "  running build_py\n",
            "  creating build\n",
            "  creating build\\lib.win-amd64-3.9\n",
            "  creating build\\lib.win-amd64-3.9\\kmeans\n",
            "  copying kmeans\\performance.py -> build\\lib.win-amd64-3.9\\kmeans\n",
            "  copying kmeans\\tests.py -> build\\lib.win-amd64-3.9\\kmeans\n",
            "  copying kmeans\\__init__.py -> build\\lib.win-amd64-3.9\\kmeans\n",
            "  running egg_info\n",
            "  writing kmeans.egg-info\\PKG-INFO\n",
            "  writing dependency_links to kmeans.egg-info\\dependency_links.txt\n",
            "  writing top-level names to kmeans.egg-info\\top_level.txt\n",
            "  reading manifest file 'kmeans.egg-info\\SOURCES.txt'\n",
            "  writing manifest file 'kmeans.egg-info\\SOURCES.txt'\n",
            "  copying kmeans\\lib.c -> build\\lib.win-amd64-3.9\\kmeans\n",
            "  running build_ext\n",
            "  building 'kmeans/lib' extension\n",
            "  error: Microsoft Visual C++ 14.0 or greater is required. Get it with \"Microsoft C++ Build Tools\": https://visualstudio.microsoft.com/visual-cpp-build-tools/\n",
            "  ----------------------------------------\n",
            "  ERROR: Failed building wheel for KMeans\n",
            "    ERROR: Command errored out with exit status 1:\n",
            "     command: 'C:\\Users\\Admin\\anaconda3\\python.exe' -u -c 'import io, os, sys, setuptools, tokenize; sys.argv[0] = '\"'\"'C:\\\\Users\\\\Admin\\\\AppData\\\\Local\\\\Temp\\\\pip-install-jk02jvwv\\\\kmeans_f93f24f65a434b1481ef8d1f050bb431\\\\setup.py'\"'\"'; __file__='\"'\"'C:\\\\Users\\\\Admin\\\\AppData\\\\Local\\\\Temp\\\\pip-install-jk02jvwv\\\\kmeans_f93f24f65a434b1481ef8d1f050bb431\\\\setup.py'\"'\"';f = getattr(tokenize, '\"'\"'open'\"'\"', open)(__file__) if os.path.exists(__file__) else io.StringIO('\"'\"'from setuptools import setup; setup()'\"'\"');code = f.read().replace('\"'\"'\\r\\n'\"'\"', '\"'\"'\\n'\"'\"');f.close();exec(compile(code, __file__, '\"'\"'exec'\"'\"'))' install --record 'C:\\Users\\Admin\\AppData\\Local\\Temp\\pip-record-ayf0b6i3\\install-record.txt' --single-version-externally-managed --compile --install-headers 'C:\\Users\\Admin\\anaconda3\\Include\\KMeans'\n",
            "         cwd: C:\\Users\\Admin\\AppData\\Local\\Temp\\pip-install-jk02jvwv\\kmeans_f93f24f65a434b1481ef8d1f050bb431\\\n",
            "    Complete output (21 lines):\n",
            "    running install\n",
            "    C:\\Users\\Admin\\anaconda3\\lib\\site-packages\\setuptools\\command\\install.py:34: SetuptoolsDeprecationWarning: setup.py install is deprecated. Use build and pip and other standards-based tools.\n",
            "      warnings.warn(\n",
            "    running build\n",
            "    running build_py\n",
            "    creating build\n",
            "    creating build\\lib.win-amd64-3.9\n",
            "    creating build\\lib.win-amd64-3.9\\kmeans\n",
            "    copying kmeans\\performance.py -> build\\lib.win-amd64-3.9\\kmeans\n",
            "    copying kmeans\\tests.py -> build\\lib.win-amd64-3.9\\kmeans\n",
            "    copying kmeans\\__init__.py -> build\\lib.win-amd64-3.9\\kmeans\n",
            "    running egg_info\n",
            "    writing kmeans.egg-info\\PKG-INFO\n",
            "    writing dependency_links to kmeans.egg-info\\dependency_links.txt\n",
            "    writing top-level names to kmeans.egg-info\\top_level.txt\n",
            "    reading manifest file 'kmeans.egg-info\\SOURCES.txt'\n",
            "    writing manifest file 'kmeans.egg-info\\SOURCES.txt'\n",
            "    copying kmeans\\lib.c -> build\\lib.win-amd64-3.9\\kmeans\n",
            "    running build_ext\n",
            "    building 'kmeans/lib' extension\n",
            "    error: Microsoft Visual C++ 14.0 or greater is required. Get it with \"Microsoft C++ Build Tools\": https://visualstudio.microsoft.com/visual-cpp-build-tools/\n",
            "    ----------------------------------------\n",
            "ERROR: Command errored out with exit status 1: 'C:\\Users\\Admin\\anaconda3\\python.exe' -u -c 'import io, os, sys, setuptools, tokenize; sys.argv[0] = '\"'\"'C:\\\\Users\\\\Admin\\\\AppData\\\\Local\\\\Temp\\\\pip-install-jk02jvwv\\\\kmeans_f93f24f65a434b1481ef8d1f050bb431\\\\setup.py'\"'\"'; __file__='\"'\"'C:\\\\Users\\\\Admin\\\\AppData\\\\Local\\\\Temp\\\\pip-install-jk02jvwv\\\\kmeans_f93f24f65a434b1481ef8d1f050bb431\\\\setup.py'\"'\"';f = getattr(tokenize, '\"'\"'open'\"'\"', open)(__file__) if os.path.exists(__file__) else io.StringIO('\"'\"'from setuptools import setup; setup()'\"'\"');code = f.read().replace('\"'\"'\\r\\n'\"'\"', '\"'\"'\\n'\"'\"');f.close();exec(compile(code, __file__, '\"'\"'exec'\"'\"'))' install --record 'C:\\Users\\Admin\\AppData\\Local\\Temp\\pip-record-ayf0b6i3\\install-record.txt' --single-version-externally-managed --compile --install-headers 'C:\\Users\\Admin\\anaconda3\\Include\\KMeans' Check the logs for full command output.\n"
          ]
        },
        {
          "name": "stdout",
          "output_type": "stream",
          "text": [
            "\n",
            "  Using cached kmeans-1.0.2.tar.gz (5.9 kB)\n",
            "Building wheels for collected packages: KMeans\n",
            "  Building wheel for KMeans (setup.py): started\n",
            "  Building wheel for KMeans (setup.py): finished with status 'error'\n",
            "  Running setup.py clean for KMeans\n",
            "Failed to build KMeans\n",
            "Installing collected packages: KMeans\n",
            "    Running setup.py install for KMeans: started\n",
            "    Running setup.py install for KMeans: finished with status 'error'\n"
          ]
        }
      ],
      "source": [
        "!pip3 install KMeans"
      ]
    },
    {
      "cell_type": "code",
      "execution_count": null,
      "id": "d0a401f2",
      "metadata": {
        "id": "d0a401f2"
      },
      "outputs": [],
      "source": [
        "import matplotlib.pyplot as plt"
      ]
    },
    {
      "cell_type": "code",
      "execution_count": null,
      "id": "a35e3e00",
      "metadata": {
        "id": "a35e3e00",
        "outputId": "19358ca2-c69a-4be8-e67d-ff95cc5f841e"
      },
      "outputs": [
        {
          "data": {
            "image/png": "[encoded data removed]",
            "text/plain": [
              "<Figure size 432x288 with 1 Axes>"
            ]
          },
          "metadata": {
            "needs_background": "light"
          },
          "output_type": "display_data"
        }
      ],
      "source": [
        "plt.plot(range(1,11),wcss)\n",
        "plt.title(\"ELBOW METHOD\")\n",
        "plt.xlabel(\"No:of Clusters\")\n",
        "plt.ylabel(\"WCSS\")\n",
        "plt.show()"
      ]
    },
    {
      "cell_type": "markdown",
      "id": "5c0a8561",
      "metadata": {
        "id": "5c0a8561"
      },
      "source": [
        "# MODEL TRAINING"
      ]
    },
    {
      "cell_type": "code",
      "execution_count": null,
      "id": "04bdb8cd",
      "metadata": {
        "id": "04bdb8cd"
      },
      "outputs": [],
      "source": [
        "#optimal no:of clusters = 5\n",
        "X = data[['Annual Income (k$)','Spending Score (1-100)']]\n"
      ]
    },
    {
      "cell_type": "code",
      "execution_count": null,
      "id": "c99b8c6b",
      "metadata": {
        "id": "c99b8c6b",
        "outputId": "990b7e44-a565-4924-9e9d-ef6e856745d4"
      },
      "outputs": [
        {
          "data": {
            "text/plain": [
              "array([2, 3, 2, 3, 2, 3, 2, 3, 2, 3, 2, 3, 2, 3, 2, 3, 2, 3, 2, 3, 2, 3,\n",
              "       2, 3, 2, 3, 2, 3, 2, 3, 2, 3, 2, 3, 2, 3, 2, 3, 2, 3, 2, 3, 2, 0,\n",
              "       2, 3, 0, 0, 0, 0, 0, 0, 0, 0, 0, 0, 0, 0, 0, 0, 0, 0, 0, 0, 0, 0,\n",
              "       0, 0, 0, 0, 0, 0, 0, 0, 0, 0, 0, 0, 0, 0, 0, 0, 0, 0, 0, 0, 0, 0,\n",
              "       0, 0, 0, 0, 0, 0, 0, 0, 0, 0, 0, 0, 0, 0, 0, 0, 0, 0, 0, 0, 0, 0,\n",
              "       0, 0, 0, 0, 0, 0, 0, 0, 0, 0, 0, 0, 0, 4, 1, 4, 0, 4, 1, 4, 1, 4,\n",
              "       0, 4, 1, 4, 1, 4, 1, 4, 1, 4, 0, 4, 1, 4, 1, 4, 1, 4, 1, 4, 1, 4,\n",
              "       1, 4, 1, 4, 1, 4, 1, 4, 1, 4, 1, 4, 1, 4, 1, 4, 1, 4, 1, 4, 1, 4,\n",
              "       1, 4, 1, 4, 1, 4, 1, 4, 1, 4, 1, 4, 1, 4, 1, 4, 1, 4, 1, 4, 1, 4,\n",
              "       1, 4])"
            ]
          },
          "execution_count": 24,
          "metadata": {},
          "output_type": "execute_result"
        }
      ],
      "source": [
        "k_means = KMeans(n_clusters=5,random_state=42)\n",
        "y_means = k_means.fit_predict(X)\n",
        "y_means"
      ]
    },
    {
      "cell_type": "code",
      "execution_count": null,
      "id": "b19163a3",
      "metadata": {
        "id": "b19163a3",
        "outputId": "2261520b-d454-4e80-d72c-1443a0665e3b"
      },
      "outputs": [
        {
          "data": {
            "image/png": "[encoded data removed]",
            "text/plain": [
              "<Figure size 432x288 with 1 Axes>"
            ]
          },
          "metadata": {
            "needs_background": "light"
          },
          "output_type": "display_data"
        }
      ],
      "source": [
        "plt.scatter(X.iloc[y_means == 0,0],X.iloc[y_means == 0,1],s=100,c='red',label=\"Cluster 1\")\n",
        "plt.scatter(X.iloc[y_means == 1,0],X.iloc[y_means == 1,1],s=100,c='blue',label=\"Cluster 2\")\n",
        "plt.scatter(X.iloc[y_means == 2,0],X.iloc[y_means == 2,1],s=100,c='black',label=\"Cluster 3\")\n",
        "plt.scatter(X.iloc[y_means == 3,0],X.iloc[y_means == 3,1],s=100,c='yellow',label=\"Cluster 4\")\n",
        "plt.scatter(X.iloc[y_means == 4,0],X.iloc[y_means == 4,1],s=100,c='green',label=\"Cluster 5\")\n",
        "\n",
        "plt.scatter(k_means.cluster_centers_[:,0],k_means.cluster_centers_[:,1],s=100,c=\"magenta\")\n",
        "plt.title(\"CUSTOMER SEGMENTATION\")\n",
        "plt.xlabel(\"Annual Income\")\n",
        "plt.ylabel(\"Spending Score\")\n",
        "\n",
        "plt.legend()\n",
        "plt.show()"
      ]
    },
    {
      "cell_type": "code",
      "execution_count": null,
      "id": "eb2d3074",
      "metadata": {
        "id": "eb2d3074",
        "outputId": "21ed5156-b207-4bb1-ceb0-410b80011f6b"
      },
      "outputs": [
        {
          "name": "stderr",
          "output_type": "stream",
          "text": [
            "C:\\Users\\Admin\\anaconda3\\lib\\site-packages\\sklearn\\base.py:450: UserWarning: X does not have valid feature names, but KMeans was fitted with feature names\n",
            "  warnings.warn(\n"
          ]
        },
        {
          "data": {
            "text/plain": [
              "array([2])"
            ]
          },
          "execution_count": 29,
          "metadata": {},
          "output_type": "execute_result"
        }
      ],
      "source": [
        "# PREDICTION\n",
        "\n",
        "k_means.predict([[15,39]])\n"
      ]
    },
    {
      "cell_type": "markdown",
      "id": "adb35b4a",
      "metadata": {
        "id": "adb35b4a"
      },
      "source": [
        "# Save the Model"
      ]
    },
    {
      "cell_type": "code",
      "execution_count": null,
      "id": "d1204198",
      "metadata": {
        "id": "d1204198"
      },
      "outputs": [],
      "source": [
        "import joblib"
      ]
    },
    {
      "cell_type": "code",
      "execution_count": null,
      "id": "546eb2fa",
      "metadata": {
        "id": "546eb2fa",
        "outputId": "593a0b33-3893-463f-8491-e7dcf3bbcb04"
      },
      "outputs": [
        {
          "data": {
            "text/plain": [
              "['customer_segmentation']"
            ]
          },
          "execution_count": 31,
          "metadata": {},
          "output_type": "execute_result"
        }
      ],
      "source": [
        "joblib.dump(k_means,\"customer_segmentation\")"
      ]
    },
    {
      "cell_type": "code",
      "execution_count": null,
      "id": "279e0ea6",
      "metadata": {
        "id": "279e0ea6"
      },
      "outputs": [],
      "source": [
        "model = joblib.load(\"customer_segmentation\")"
      ]
    },
    {
      "cell_type": "code",
      "execution_count": null,
      "id": "38f1f1b2",
      "metadata": {
        "id": "38f1f1b2",
        "outputId": "cabc63da-615e-40cb-cc8e-63d9b6360fe1"
      },
      "outputs": [
        {
          "name": "stderr",
          "output_type": "stream",
          "text": [
            "C:\\Users\\Admin\\anaconda3\\lib\\site-packages\\sklearn\\base.py:450: UserWarning: X does not have valid feature names, but KMeans was fitted with feature names\n",
            "  warnings.warn(\n"
          ]
        },
        {
          "data": {
            "text/plain": [
              "array([2])"
            ]
          },
          "execution_count": 33,
          "metadata": {},
          "output_type": "execute_result"
        }
      ],
      "source": [
        "model.predict([[15,39]])"
      ]
    },
    {
      "cell_type": "code",
      "execution_count": null,
      "id": "50868923",
      "metadata": {
        "id": "50868923"
      },
      "outputs": [],
      "source": [
        "from tkinter import *\n",
        "import joblib\n"
      ]
    },
    {
      "cell_type": "code",
      "execution_count": null,
      "id": "ffc2fc26",
      "metadata": {
        "id": "ffc2fc26",
        "outputId": "2bd43e73-39bb-4a3e-b64e-7e84ee054867"
      },
      "outputs": [
        {
          "name": "stderr",
          "output_type": "stream",
          "text": [
            "C:\\Users\\Admin\\anaconda3\\lib\\site-packages\\sklearn\\base.py:450: UserWarning: X does not have valid feature names, but KMeans was fitted with feature names\n",
            "  warnings.warn(\n"
          ]
        },
        {
          "name": "stdout",
          "output_type": "stream",
          "text": [
            "This Customer belongs to cluster no:  2\n"
          ]
        }
      ],
      "source": [
        "def show_entry_fields():\n",
        "    p1=int(e1.get())\n",
        "    p2=int(e2.get())\n",
        "    \n",
        "    model = joblib.load('customer_segmentation')\n",
        "    result=model.predict([[p1, p2]])\n",
        "    print(\"This Customer belongs to cluster no: \", result[0])\n",
        "\n",
        "    if result[0] == 0:\n",
        "        Label (master, text=\"Customers with medium annual income and medium spending score\")\n",
        "    elif result[0]==1:\n",
        "        Label (master, text=\"Customers with high annual income and low spending score\")\n",
        "    elif result[0]==2:\n",
        "        Label (master, text=\"Customers with low annual income and low spending score\")\n",
        "    elif result[0]==3:\n",
        "        Label (master, text=\"Customers with low annual income and high spending score\")\n",
        "    elif result[0]==4:\n",
        "        Label (master, text=\"Customers with high annual income and high spending score\")\n",
        "   \n",
        "master = Tk()\n",
        "master.title(\"CUSTOMER SEGMENTATION USING MACHINE LEARNING\")\n",
        "\n",
        "\n",
        "label = Label(master, text = \"CUSTOMER SEGMENTATION USING MACHINE LEARNING\",bg=\"black\",fg=\"white\").grid(row=0,columnspan=2)\n",
        "\n",
        "Label(master,text=\"Annual Income\").grid(row=1)\n",
        "Label(master,text=\"Spending Score\").grid(row=2)\n",
        "\n",
        "e1 = Entry(master)\n",
        "e2 = Entry(master)\n",
        "\n",
        "e1.grid(row=1, column=1)\n",
        "e2.grid(row=2, column=1)\n",
        "\n",
        "Button (master, text='Predict', command=show_entry_fields).grid()\n",
        "mainloop()\n"
      ]
    },
    {
      "cell_type": "code",
      "execution_count": null,
      "id": "7f5c9d22",
      "metadata": {
        "id": "7f5c9d22"
      },
      "outputs": [],
      "source": []
    }
  ],
  "metadata": {
    "kernelspec": {
      "display_name": "Python 3 (ipykernel)",
      "language": "python",
      "name": "python3"
    },
    "language_info": {
      "codemirror_mode": {
        "name": "ipython",
        "version": 3
      },
      "file_extension": ".py",
      "mimetype": "text/x-python",
      "name": "python",
      "nbconvert_exporter": "python",
      "pygments_lexer": "ipython3",
      "version": "3.9.12"
    },
    "colab": {
      "provenance": []
    }
  },
  "nbformat": 4,
  "nbformat_minor": 5
}